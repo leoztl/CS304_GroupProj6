{
 "cells": [
  {
   "attachments": {},
   "cell_type": "markdown",
   "metadata": {},
   "source": [
    "# CS304 Project 6\n",
    "In this project, we are required to train digit HMMs from continuous speech recordings and recognize continuous digit sequences."
   ]
  },
  {
   "attachments": {},
   "cell_type": "markdown",
   "metadata": {},
   "source": [
    "Packages import"
   ]
  },
  {
   "cell_type": "code",
   "execution_count": 18,
   "metadata": {},
   "outputs": [],
   "source": [
    "import CDR\n",
    "import os\n",
    "from num2words import num2words\n",
    "import sentence as st\n",
    "import numpy as np\n",
    "import DTW\n",
    "from time import time"
   ]
  },
  {
   "attachments": {},
   "cell_type": "markdown",
   "metadata": {},
   "source": [
    "## Part 1 Training\n",
    "Author: Tianle Zhu\n",
    "\n",
    "For complete code of training part, please refer to ***train_st.py***."
   ]
  },
  {
   "attachments": {},
   "cell_type": "markdown",
   "metadata": {},
   "source": [
    "The first part of this project is to train HMM models from continuous speech recordings. \n",
    "\n",
    "Our training data is **30** continuous speech recordings of the sequences below stored under ***./sequences***. \n",
    "* *0 1 2 3 4 5 6 7 8 9* \n",
    "* *9 8 7 6 5 4 3 2 1 0* \n",
    "* *1 2 3 4 5 6 7 8 9 0* \n",
    "* *0 9 8 7 6 5 4 3 2 1* \n",
    "* *1 3 5 7 9 0 2 4 6 8* \n",
    "* *8 6 4 2 0 9 7 5 3 1*\n",
    "  \n",
    "Each sequence has five recordings and all of them are recorded by one person. "
   ]
  },
  {
   "attachments": {},
   "cell_type": "markdown",
   "metadata": {},
   "source": [
    "The whole process of training can be described by t he following steps:\n",
    "1. Initialize model from isolated digit models\n",
    "2. Read in recordings. For each recording, build a graph using loaded HMMs according to the digit sequence.\n",
    "3. Perform DTW to align the mfcc vectors of each recording to their corresponding graph. \n",
    "4. Update HMM models after all 30 recordings are used. \n",
    "5. If the model does not converge, goes back to step 2\n",
    "\n",
    "We will demonstrate our code for each step. "
   ]
  },
  {
   "attachments": {},
   "cell_type": "markdown",
   "metadata": {},
   "source": [
    "### Step 1 Model Initialization\n",
    "The following block defines the function to load isolated digit HMMs, which are stored under ***./model/tz***. "
   ]
  },
  {
   "cell_type": "code",
   "execution_count": 10,
   "metadata": {},
   "outputs": [],
   "source": [
    "def initialize_model(sequence_folder):\n",
    "    \"\"\"\n",
    "    load pre-trained HMMs of isolated digits. Return the HMMs in a list. \n",
    "    \"\"\"\n",
    "    # read pre-trained isolated digit models\n",
    "    obj_ls = []\n",
    "    for i in range(10):\n",
    "        obj = CDR.Hmm(num2words(i), \"\")\n",
    "        obj_ls.append(obj)\n",
    "    # read pre-trained silence model\n",
    "    obj_ls.append(CDR.Hmm(\"sil\", \"sil0\"))\n",
    "    obj_ls.append(CDR.Hmm(\"sil\", \"sil1\"))\n",
    "    return obj_ls"
   ]
  },
  {
   "attachments": {},
   "cell_type": "markdown",
   "metadata": {},
   "source": [
    "### Step 2 Read Recordings & Graph Building\n",
    "The following block defines the function to read all recording as *Sentence* objects and return them in a list. \n",
    "\n",
    "For the *Sentence* object, please refer to ***sentence.py***. "
   ]
  },
  {
   "cell_type": "code",
   "execution_count": 11,
   "metadata": {},
   "outputs": [],
   "source": [
    "def get_recordings(folderpath):\n",
    "    \"\"\"read and return all recordings under folderpath\n",
    "\n",
    "    :param folderpath: path of recording folder\n",
    "    :return: list of sentence object\n",
    "    \"\"\"\n",
    "    sentence_ls = []\n",
    "    for file in os.listdir(folderpath):\n",
    "        filename = os.path.join(folderpath, file)\n",
    "        sentence = st.Sentence(filename)\n",
    "        sentence_ls.append(sentence)\n",
    "    return sentence_ls"
   ]
  },
  {
   "attachments": {},
   "cell_type": "markdown",
   "metadata": {},
   "source": [
    "The following block defines the functions to connect HMMs based on digit sequence. \n",
    "\n",
    "Functions **resetHead()** and **resetTail()** are used to remove non-emitting states of the last alignment."
   ]
  },
  {
   "cell_type": "code",
   "execution_count": 12,
   "metadata": {},
   "outputs": [],
   "source": [
    "\n",
    "def resetHead(hmm):\n",
    "    \"\"\"\n",
    "    remove null state of last alignment from edges of head state of given hmm\n",
    "    \"\"\"\n",
    "    head = hmm.getHead()\n",
    "    new_edge = []\n",
    "    for edge in head.edges:\n",
    "        parentNode = edge[0]\n",
    "        # ignore all non-emitting parents\n",
    "        if not parentNode.isNull:\n",
    "            new_edge.append(edge)\n",
    "    head.edges = new_edge\n",
    "\n",
    "\n",
    "def resetTail(hmm):\n",
    "    \"\"\"\n",
    "    remove null state of last alignment from children of tail state of given hmm\n",
    "    \"\"\"\n",
    "    tail = hmm.getTail()\n",
    "    tail.next = []\n",
    "\n",
    "\n",
    "def connect(nullstate, hmm):\n",
    "    \"\"\"\n",
    "    first remove all null state from last alignment,\n",
    "    then connect hmm after give null state and connect a new null state after the hmm, return the new null state\n",
    "\n",
    "    :param nullstate: given nullstate\n",
    "    :param hmm: given hmm\n",
    "    :return: new initizlied nullstate\n",
    "    \"\"\"\n",
    "    # remove all non-emitting states from last alignment\n",
    "    resetHead(hmm)\n",
    "    resetTail(hmm)\n",
    "    # connect head state\n",
    "    nullstate.next.append(hmm.getHead())\n",
    "    hmm.getHead().edges.append((nullstate, 1.0))\n",
    "    # initialize and connect new non-emitting state\n",
    "    new_null = CDR.NullState()\n",
    "    hmm.getTail().next.append(new_null)\n",
    "    new_null.edges.append((hmm.getTail(), 0.5))\n",
    "    return new_null\n",
    "\n",
    "\n",
    "def get_node_ls(sentence, obj_ls):\n",
    "    \"\"\"build graph according to given sentence and return the flattened graph\n",
    "\n",
    "    :param sentence: given sentence object\n",
    "    :param obj_ls: already initialized hmm models\n",
    "    :return: flattened graph (node list)\n",
    "    \"\"\"\n",
    "    sentencePath = sentence.name  # get recording path\n",
    "    # get digit sequence (string)\n",
    "    _, tail = os.path.split(sentencePath)\n",
    "    digit_seq = tail.split(\".\")[0].split(\"_\")[0]\n",
    "    # initialize starting non-emitting state\n",
    "    startNull = CDR.NullState()\n",
    "    # get first silence hmm\n",
    "    sil_0 = obj_ls[-1]\n",
    "    # connect starting non-emitting and first silence, get second non-emitting state\n",
    "    currNull = connect(startNull, sil_0)\n",
    "    # conncect all digit hmms\n",
    "    for digit in digit_seq:\n",
    "        hmm = obj_ls[int(digit)]\n",
    "        currNull = connect(currNull, hmm)\n",
    "    # connect end silence\n",
    "    sil_1 = obj_ls[-2]\n",
    "    currNull = connect(currNull, sil_1)\n",
    "    return CDR.flatten(startNull)"
   ]
  },
  {
   "attachments": {},
   "cell_type": "markdown",
   "metadata": {},
   "source": [
    "### Step 3 Alignment/DTW\n",
    "\n",
    "This is what we have implemented in previous projects. \n",
    "\n",
    "For the complete code of DTW and back pointer table implementation, please refer to ***DTW.py***"
   ]
  },
  {
   "attachments": {},
   "cell_type": "markdown",
   "metadata": {},
   "source": [
    "### Step 4 Update HMMs\n",
    "\n",
    "Our strategy for updating is to assign each mfcc vector to their corresponding state by the results of DTW.\n",
    "\n",
    "In real implementation, we defines a list *feature_ls* to store vectors by state id. \n",
    "\n",
    "The following block defines the functions to assign vectors using DTW results and update models after all 30 recordings are aligned. "
   ]
  },
  {
   "cell_type": "code",
   "execution_count": 13,
   "metadata": {},
   "outputs": [],
   "source": [
    "def assign_vectors(sentence, path, feature_ls):\n",
    "    \"\"\"assign each vector in the sentece to corresponding state (by result of alignment)\n",
    "\n",
    "    :param sentence: setence object\n",
    "    :param path: path (result of alignment)\n",
    "    :param feature_ls: basket list that holds all vectors\n",
    "    \"\"\"\n",
    "    for t in range(len(sentence.val)):\n",
    "        vector = sentence.val[t]\n",
    "        id = path[t].id\n",
    "        # store vector based on state id\n",
    "        vector_arr = feature_ls[id]\n",
    "        # vstack all vectors\n",
    "        vector_arr = np.vstack((vector_arr, vector))\n",
    "        feature_ls[id] = vector_arr\n",
    "\n",
    "\n",
    "def update(node_ls, feature_ls):\n",
    "    \"\"\"update mean, cov, transition probabilities of all emitting states\n",
    "\n",
    "    :param node_ls: node list\n",
    "    :param feature_ls: basket list that holds all vectors\n",
    "    \"\"\"\n",
    "    for node in node_ls:\n",
    "        # skip null state\n",
    "        if node.isNull:\n",
    "            continue\n",
    "        # get all features belong to this state by state id\n",
    "        vector_arr = feature_ls[node.id]\n",
    "        vectorNum = len(vector_arr)\n",
    "        sentenceNum = 30\n",
    "        # calculate self transition probability\n",
    "        self_trans_prob = (vectorNum - sentenceNum) / vectorNum\n",
    "        self_trans_prob = np.where(self_trans_prob == 0, np.finfo(np.float64).eps, self_trans_prob)\n",
    "        # calculate mean\n",
    "        mean = np.mean(vector_arr, 0)\n",
    "        # calculate covariance matrix (diagonal)\n",
    "        cov_mat = np.cov(vector_arr.T)\n",
    "        cov_diag = np.diag(cov_mat)\n",
    "        # update transition probabilities\n",
    "        new_edges = []\n",
    "        for edge in node.edges:\n",
    "            parentNode = edge[0]\n",
    "            # update self transition probability\n",
    "            if parentNode == node:\n",
    "                new_edges.append((parentNode, self_trans_prob))\n",
    "            # update parent transition probability\n",
    "            else:\n",
    "                if parentNode.isNull:\n",
    "                    new_edges.append((parentNode, 1))\n",
    "                else:\n",
    "                    new_edges.append((parentNode, next_trans_prob))\n",
    "        # calculate parent transition probability for child\n",
    "        next_trans_prob = 1 - self_trans_prob\n",
    "\n",
    "        node.edges = new_edges\n",
    "        # update mean\n",
    "        node.mean = mean\n",
    "        # update covariance\n",
    "        node.cov = cov_diag"
   ]
  },
  {
   "attachments": {},
   "cell_type": "markdown",
   "metadata": {},
   "source": [
    "### Step 5 Check Convergence\n",
    "This step is trivial and also what we have implemented before. You can also refer to it in ***DTW.py***"
   ]
  },
  {
   "attachments": {},
   "cell_type": "markdown",
   "metadata": {},
   "source": [
    "### Then we can train the model from continuous recording using function *train()*. \n",
    "\n",
    "In ***train_st.py***, we store the trained models for each digit including silence under **./model/tz_trained**. However, since here we also want to examine convergence, the models will not be stored. "
   ]
  },
  {
   "cell_type": "code",
   "execution_count": 23,
   "metadata": {},
   "outputs": [],
   "source": [
    "def train(verbose, threshold, iterNum=None):\n",
    "    \"\"\"\n",
    "    training digit hmm models from continuous digit sequences\n",
    "    \"\"\"\n",
    "    sequence_folder = \"./sequences/tz\"\n",
    "    obj_ls = initialize_model(sequence_folder)\n",
    "    converge = False\n",
    "    iteration = 0\n",
    "    prev_cost = None\n",
    "    sentence_ls = get_recordings(sequence_folder)\n",
    "    cost_ls = []\n",
    "    while not converge:\n",
    "        if verbose:\n",
    "            print(\"iteration: \", iteration)\n",
    "        total_cost = 0\n",
    "        feature_ls = [np.empty((0, 39)) for i in range(73)]  # basket list holds all vectors by state id they belong to\n",
    "        for sentence in sentence_ls:  # align all sentence in one iteration\n",
    "            node_ls, nodeNum = get_node_ls(sentence, obj_ls)  # get node list (flattened graph)\n",
    "            cost, bpt = DTW.DTW(sentence.val, node_ls)  # DTW, alignment\n",
    "            # print(bpt)\n",
    "            total_cost += cost\n",
    "            _, path = DTW.parseBPT(bpt)  # parse back pointer table to get path\n",
    "            segment = sentence.update_segment(path)\n",
    "            assign_vectors(sentence, path, feature_ls)  # assign each vector to corresponding state\n",
    "            \"\"\" if verbose:\n",
    "                # utils.print_seq(path)\n",
    "                print(segment)\n",
    "                print(\"*\" * 100) \"\"\"\n",
    "        if verbose:\n",
    "            print(\"total cost: \", total_cost)\n",
    "        update(node_ls, feature_ls)  # update all nodes after all alignments complete\n",
    "        if iteration != 0:\n",
    "            converge = DTW.check_convergence(prev_cost, total_cost, threshold)\n",
    "        \n",
    "        # specify iteration to show convergence\n",
    "        if iterNum != None and iteration < iterNum - 1:\n",
    "            converge = False\n",
    "        elif iterNum != None and iteration == iterNum - 1:\n",
    "            converge = True\n",
    "        \n",
    "        iteration += 1\n",
    "        prev_cost = total_cost\n",
    "        cost_ls.append(total_cost)\n",
    "    return cost_ls"
   ]
  },
  {
   "attachments": {},
   "cell_type": "markdown",
   "metadata": {},
   "source": [
    "Training using convergence threshold 0.01"
   ]
  },
  {
   "cell_type": "code",
   "execution_count": 33,
   "metadata": {},
   "outputs": [
    {
     "name": "stdout",
     "output_type": "stream",
     "text": [
      "iteration:  0\n",
      "total cost:  257018.014889182\n",
      "iteration:  1\n",
      "total cost:  204203.56511388652\n",
      "iteration:  2\n",
      "total cost:  197517.74970518154\n",
      "iteration:  3\n",
      "total cost:  200763.9475711022\n",
      "iteration:  4\n",
      "total cost:  202719.95622365124\n",
      "total wall time: 78.9878 seconds\n"
     ]
    }
   ],
   "source": [
    "start = time()\n",
    "cost_1 = train(True, 0.01)\n",
    "end = time()\n",
    "print(\"total wall time: {:.4f} seconds\".format(end - start))"
   ]
  },
  {
   "attachments": {},
   "cell_type": "markdown",
   "metadata": {},
   "source": [
    "The model converge after 5 iterations, using a total wall time about 82 seconds. "
   ]
  },
  {
   "attachments": {},
   "cell_type": "markdown",
   "metadata": {},
   "source": [
    "We can also specify the iteration number to further examine the convergence. \n",
    "\n",
    "Train the model for 10 iterations. "
   ]
  },
  {
   "cell_type": "code",
   "execution_count": 34,
   "metadata": {},
   "outputs": [
    {
     "name": "stdout",
     "output_type": "stream",
     "text": [
      "iteration:  0\n",
      "total cost:  257018.014889182\n",
      "iteration:  1\n",
      "total cost:  204203.56511388652\n",
      "iteration:  2\n",
      "total cost:  197517.74970518154\n",
      "iteration:  3\n",
      "total cost:  200763.9475711022\n",
      "iteration:  4\n",
      "total cost:  202719.95622365124\n",
      "iteration:  5\n",
      "total cost:  204492.59580832638\n",
      "iteration:  6\n",
      "total cost:  204658.83653246894\n",
      "iteration:  7\n",
      "total cost:  205398.9185084263\n",
      "iteration:  8\n",
      "total cost:  206258.52356579338\n",
      "iteration:  9\n",
      "total cost:  204232.5570693745\n",
      "total wall time: 156.8741\n"
     ]
    }
   ],
   "source": [
    "start = time()\n",
    "cost_2 = train(True, 0.01, 10)\n",
    "end = time()\n",
    "print(\"total wall time: {:.4f}\".format(end - start))"
   ]
  },
  {
   "attachments": {},
   "cell_type": "markdown",
   "metadata": {},
   "source": [
    "Show the cost of each iteration."
   ]
  },
  {
   "cell_type": "code",
   "execution_count": 39,
   "metadata": {},
   "outputs": [
    {
     "data": {
      "image/png": "[encoded data removed]",
      "text/plain": [
       "<Figure size 1152x648 with 1 Axes>"
      ]
     },
     "metadata": {
      "needs_background": "light"
     },
     "output_type": "display_data"
    }
   ],
   "source": [
    "import matplotlib.pyplot as plt\n",
    "\n",
    "X = np.linspace(0,9,10, dtype=int)\n",
    "plt.figure(figsize=(16,9))\n",
    "plt.plot(X, cost_2)\n",
    "plt.scatter(X, cost_2)\n",
    "plt.xticks(X)\n",
    "plt.grid()\n",
    "plt.title(\"Cost vs.iteration\")\n",
    "plt.show()"
   ]
  },
  {
   "attachments": {},
   "cell_type": "markdown",
   "metadata": {},
   "source": [
    "We can see after a few iterations, the cost drops from nearly 26,000 to around 20,000 and then oscillates around 20,5000. "
   ]
  }
 ],
 "metadata": {
  "kernelspec": {
   "display_name": "base",
   "language": "python",
   "name": "python3"
  },
  "language_info": {
   "codemirror_mode": {
    "name": "ipython",
    "version": 3
   },
   "file_extension": ".py",
   "mimetype": "text/x-python",
   "name": "python",
   "nbconvert_exporter": "python",
   "pygments_lexer": "ipython3",
   "version": "3.9.7"
  },
  "orig_nbformat": 4,
  "vscode": {
   "interpreter": {
    "hash": "d7288e82646d3164eca24130947288f8779d11454649f2c02a5dfc42af7f324c"
   }
  }
 },
 "nbformat": 4,
 "nbformat_minor": 2
}
